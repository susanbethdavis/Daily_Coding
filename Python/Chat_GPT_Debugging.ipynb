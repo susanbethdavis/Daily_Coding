{
 "cells": [
  {
   "cell_type": "markdown",
   "id": "fecf66dd-3791-49e7-9beb-74760ce7bb33",
   "metadata": {},
   "source": [
    "Scenario 1: Unexpected Results in Data Analysis\n",
    "You are analyzing customer transaction data for a bank and want to calculate the average transaction amount for each customer. Below is the Python code, but it’s producing incorrect results. Identify and fix the issue.\n",
    "import pandas as pd\n",
    "\n"
   ]
  },
  {
   "cell_type": "code",
   "execution_count": null,
   "id": "e3e4a31c-3bf9-449c-a557-5a2963525a3d",
   "metadata": {},
   "outputs": [],
   "source": [
    "# Sample data\n",
    "data = {\n",
    "    'CustomerID': [1, 2, 1, 3, 2, 3],\n",
    "    'TransactionAmount': [100, 200, 150, 300, 250, 400]\n",
    "}\n",
    "\n",
    "df = pd.DataFrame(data)\n",
    "\n",
    "# Calculate average transaction amount for each customer\n",
    "average_transaction = df.groupby('CustomerID')['TransactionAmount'].sum()\n",
    "print(average_transaction)"
   ]
  },
  {
   "cell_type": "markdown",
   "id": "8c28fb90-c586-415a-9d5f-e201d568a4c8",
   "metadata": {},
   "source": [
    "Problem framing: the user wants to calculate the average transaction account by customer, for this reason they group on customer ID and then apply a function to each group, however, they used the sum function rather then the mean function. For that reason our output is the total transaction amount for each customer rather then the average. The user should replace .sum() with .mean(). I figured this out by examining the output then examning the grouping logic. "
   ]
  },
  {
   "cell_type": "code",
   "execution_count": null,
   "id": "2a4f6cfe-f842-45ea-8823-96c55ec725b1",
   "metadata": {},
   "outputs": [],
   "source": [
    "#Corrected code\n",
    "# Sample data\n",
    "data = {\n",
    "    'CustomerID': [1, 2, 1, 3, 2, 3],\n",
    "    'TransactionAmount': [100, 200, 150, 300, 250, 400]\n",
    "}\n",
    "\n",
    "df = pd.DataFrame(data)\n",
    "\n",
    "# Calculate average transaction amount for each customer\n",
    "average_transaction = df.groupby('CustomerID')['TransactionAmount'].mean()\n",
    "print(average_transaction)"
   ]
  },
  {
   "cell_type": "markdown",
   "id": "ae9351de-63c0-4597-91b6-380c68f58014",
   "metadata": {},
   "source": [
    "Scenario 2: Handling Missing Values\n",
    "You're working with a dataset containing customer demographic information. You notice that some entries in the \"Age\" column are missing (NaN). You want to fill these missing values with the average age for all customers. Here's the code you've written, but it doesn't seem to work correctly."
   ]
  },
  {
   "cell_type": "code",
   "execution_count": 7,
   "id": "4341de09-22e9-4df0-9b7c-45b08ed2e6af",
   "metadata": {},
   "outputs": [
    {
     "name": "stdout",
     "output_type": "stream",
     "text": [
      "   CustomerID        Age\n",
      "0           1  25.000000\n",
      "1           2  31.666667\n",
      "2           3  30.000000\n",
      "3           4  31.666667\n",
      "4           5  40.000000\n"
     ]
    }
   ],
   "source": [
    "import pandas as pd\n",
    "import numpy as np\n",
    "\n",
    "# Sample data\n",
    "data = {\n",
    "    'CustomerID': [1, 2, 3, 4, 5],\n",
    "    'Age': [25, np.nan, 30, np.nan, 40]\n",
    "}\n",
    "\n",
    "df = pd.DataFrame(data)\n",
    "\n",
    "# Fill missing values with the average age\n",
    "df['Age'] = df['Age'].fillna(df.mean())\n",
    "print(df)\n"
   ]
  },
  {
   "cell_type": "markdown",
   "id": "188d2e47-f993-4073-a342-f602aa23da90",
   "metadata": {},
   "source": [
    "Problem Framing: I am working with customer demographic information and want to impute missing values in the Age column with the average age for all customers. Currently when running the output foor the mising columns has not been imputed. Looking at the code I first examine th eimputation line and notice the fillna function is trying to impute based off the mean of the enitre dataframe rather then on the age column. We need to fix it with fillna(df['Age'].mean()"
   ]
  },
  {
   "cell_type": "code",
   "execution_count": null,
   "id": "58394db6-d64f-42a7-ba58-69e0a10f2090",
   "metadata": {},
   "outputs": [],
   "source": [
    "# Corrected code\n",
    "import pandas as pd\n",
    "import numpy as np\n",
    "\n",
    "# Sample data\n",
    "data = {\n",
    "    'CustomerID': [1, 2, 3, 4, 5],\n",
    "    'Age': [25, np.nan, 30, np.nan, 40]\n",
    "}\n",
    "\n",
    "df = pd.DataFrame(data)\n",
    "\n",
    "# Fill missing values with the average age\n",
    "df['Age'] = df['Age'].fillna(df['Age'].mean())\n",
    "print(df)\n",
    "\n"
   ]
  },
  {
   "cell_type": "markdown",
   "id": "d74b395f-1e0b-4436-a8bc-543cea1b86a0",
   "metadata": {},
   "source": [
    "Scenario 3: Feature Creation with a Logical Error\n",
    "You are working on a dataset with customer transaction data. You want to create a new column, HighSpender, which will indicate whether a customer’s total transaction amount exceeds a threshold of $500. If the total is greater than $500, the value should be 1 (high spender); otherwise, it should be 0.\n",
    "\n",
    "Here’s the code you wrote, but the output is not as expected:"
   ]
  },
  {
   "cell_type": "code",
   "execution_count": 12,
   "id": "1e7be0c5-2722-49d5-b343-fb30f4937e22",
   "metadata": {},
   "outputs": [
    {
     "name": "stdout",
     "output_type": "stream",
     "text": [
      "   CustomerID  TransactionAmount  HighSpender\n",
      "0           1                450        False\n",
      "1           2                700         True\n",
      "2           3                200        False\n",
      "3           4                550         True\n"
     ]
    }
   ],
   "source": [
    "import pandas as pd\n",
    "\n",
    "# Sample data\n",
    "data = {\n",
    "    'CustomerID': [1, 2, 3, 4],\n",
    "    'TransactionAmount': [450, 700, 200, 550]\n",
    "}\n",
    "\n",
    "df = pd.DataFrame(data)\n",
    "\n",
    "# Create HighSpender column\n",
    "df['HighSpender'] = df['TransactionAmount'] > 500\n",
    "print(df)\n"
   ]
  },
  {
   "cell_type": "markdown",
   "id": "64d0c6fb-7bd8-46f6-a330-451102dd480a",
   "metadata": {},
   "source": [
    "Printing out my results I see that rather then getting a binary results, I get true false results in the column. This is expected because the column was created using a logic operation. A if then operation could be done instead. If column value for TransactionAmount > 500 then 1, else 0. A simpler method however would be to convert the boolean values to integer values"
   ]
  },
  {
   "cell_type": "code",
   "execution_count": 13,
   "id": "24fe551c-c458-4ec4-be8a-40777b70ec06",
   "metadata": {},
   "outputs": [
    {
     "name": "stdout",
     "output_type": "stream",
     "text": [
      "   CustomerID  TransactionAmount  HighSpender\n",
      "0           1                450            0\n",
      "1           2                700            1\n",
      "2           3                200            0\n",
      "3           4                550            1\n"
     ]
    }
   ],
   "source": [
    "import pandas as pd\n",
    "\n",
    "# Sample data\n",
    "data = {\n",
    "    'CustomerID': [1, 2, 3, 4],\n",
    "    'TransactionAmount': [450, 700, 200, 550]\n",
    "}\n",
    "\n",
    "df = pd.DataFrame(data)\n",
    "\n",
    "# Create HighSpender column\n",
    "df['HighSpender'] = (df['TransactionAmount'] > 500).astype(int)\n",
    "print(df)\n"
   ]
  },
  {
   "cell_type": "code",
   "execution_count": 14,
   "id": "baece024-3eef-46ec-ba78-279b75509f8d",
   "metadata": {},
   "outputs": [
    {
     "name": "stdout",
     "output_type": "stream",
     "text": [
      "   CustomerID  TransactionAmount  HighSpender\n",
      "0           1                450            0\n",
      "1           2                700            1\n",
      "2           3                200            0\n",
      "3           4                550            1\n"
     ]
    }
   ],
   "source": [
    "import pandas as pd\n",
    "\n",
    "# Sample data\n",
    "data = {\n",
    "    'CustomerID': [1, 2, 3, 4],\n",
    "    'TransactionAmount': [450, 700, 200, 550]\n",
    "}\n",
    "\n",
    "df = pd.DataFrame(data)\n",
    "\n",
    "# Create HighSpender column using lambda to work across all values in TransactionAmount\n",
    "df['HighSpender'] = df['TransactionAmount'].apply(lambda x:1 if x > 500 else 0)\n",
    "print(df)\n"
   ]
  },
  {
   "cell_type": "markdown",
   "id": "fd6834e2-f4fc-47c3-ade9-8c105bacaa8e",
   "metadata": {},
   "source": [
    "Scenario 4: Categorize Age Groups\n",
    "You are working with a dataset containing customer ages. You want to create a new column called AgeGroup that categorizes customers based on their age:\n",
    "\n",
    "Child: Age < 18\n",
    "Adult: 18 ≤ Age < 60\n",
    "Senior: Age ≥ 60\n",
    "Write code to create the AgeGroup column using a lambda function and the .apply() method.\n",
    "\n"
   ]
  },
  {
   "cell_type": "code",
   "execution_count": 19,
   "id": "8c09273f-8b00-4b63-b032-5f6c49cf40e1",
   "metadata": {},
   "outputs": [
    {
     "name": "stdout",
     "output_type": "stream",
     "text": [
      "   CustomerID  Age AgeGroup\n",
      "0           1   12    Child\n",
      "1           2   25    Adult\n",
      "2           3    8    Child\n",
      "3           4   67   Senior\n",
      "4           5   45    Adult\n"
     ]
    }
   ],
   "source": [
    "import pandas as pd\n",
    "\n",
    "# Sample data\n",
    "data = {\n",
    "    'CustomerID': [1, 2, 3, 4, 5],\n",
    "    'Age': [12, 25, 8, 67, 45]\n",
    "}\n",
    "\n",
    "df = pd.DataFrame(data)\n",
    "\n",
    "#use nested if else logic, checks child logic first, then if condition not met checks parenthesis logic\n",
    "df['AgeGroup'] = df['Age'].apply(lambda x: 'Child' if x < 18 else ('Adult' if x < 60 else 'Senior'))\n",
    "\n",
    "\n",
    "print(df)"
   ]
  },
  {
   "cell_type": "markdown",
   "id": "843756f0-2f78-4545-9506-160a0244c225",
   "metadata": {},
   "source": [
    "Scenario 5: Detect Outliers\n",
    "You are working with a dataset that contains numerical data about customer spending. You want to create a new column called IsOutlier to flag whether a transaction amount is an outlier. Define an outlier as any value that is more than 1.5 times the interquartile range (IQR) above the third quartile (Q3) or below the first quartile (Q1).\n",
    "\n",
    "The DataFrame should have an additional column IsOutlier with 1 for outliers and 0 for non-outliers"
   ]
  },
  {
   "cell_type": "code",
   "execution_count": 29,
   "id": "1f6fdcf4-e1f6-410e-a4d8-cab149d79c00",
   "metadata": {},
   "outputs": [
    {
     "data": {
      "text/html": [
       "<div>\n",
       "<style scoped>\n",
       "    .dataframe tbody tr th:only-of-type {\n",
       "        vertical-align: middle;\n",
       "    }\n",
       "\n",
       "    .dataframe tbody tr th {\n",
       "        vertical-align: top;\n",
       "    }\n",
       "\n",
       "    .dataframe thead th {\n",
       "        text-align: right;\n",
       "    }\n",
       "</style>\n",
       "<table border=\"1\" class=\"dataframe\">\n",
       "  <thead>\n",
       "    <tr style=\"text-align: right;\">\n",
       "      <th></th>\n",
       "      <th>CustomerID</th>\n",
       "      <th>TransactionAmount</th>\n",
       "      <th>IsOutlier</th>\n",
       "    </tr>\n",
       "  </thead>\n",
       "  <tbody>\n",
       "    <tr>\n",
       "      <th>0</th>\n",
       "      <td>1</td>\n",
       "      <td>200</td>\n",
       "      <td>0</td>\n",
       "    </tr>\n",
       "    <tr>\n",
       "      <th>1</th>\n",
       "      <td>2</td>\n",
       "      <td>300</td>\n",
       "      <td>0</td>\n",
       "    </tr>\n",
       "    <tr>\n",
       "      <th>2</th>\n",
       "      <td>3</td>\n",
       "      <td>150</td>\n",
       "      <td>0</td>\n",
       "    </tr>\n",
       "    <tr>\n",
       "      <th>3</th>\n",
       "      <td>4</td>\n",
       "      <td>700</td>\n",
       "      <td>0</td>\n",
       "    </tr>\n",
       "    <tr>\n",
       "      <th>4</th>\n",
       "      <td>5</td>\n",
       "      <td>250</td>\n",
       "      <td>0</td>\n",
       "    </tr>\n",
       "    <tr>\n",
       "      <th>5</th>\n",
       "      <td>6</td>\n",
       "      <td>900</td>\n",
       "      <td>0</td>\n",
       "    </tr>\n",
       "  </tbody>\n",
       "</table>\n",
       "</div>"
      ],
      "text/plain": [
       "   CustomerID  TransactionAmount  IsOutlier\n",
       "0           1                200          0\n",
       "1           2                300          0\n",
       "2           3                150          0\n",
       "3           4                700          0\n",
       "4           5                250          0\n",
       "5           6                900          0"
      ]
     },
     "execution_count": 29,
     "metadata": {},
     "output_type": "execute_result"
    }
   ],
   "source": [
    "import pandas as pd\n",
    "import numpy as np\n",
    "# Sample data\n",
    "data = {\n",
    "    'CustomerID': [1, 2, 3, 4, 5, 6],\n",
    "    'TransactionAmount': [200, 300, 150, 700, 250, 900]\n",
    "}\n",
    "\n",
    "df = pd.DataFrame(data)\n",
    "\n",
    "Q1 = np.percentile(df['TransactionAmount'] , 25)\n",
    "\n",
    "Q3 =  np.percentile(df['TransactionAmount'] , 75)\n",
    "\n",
    "IQR = Q3 - Q1\n",
    "\n",
    "lower_bound = Q1 - 1.5 * IQR\n",
    "upper_bound = Q3 + 1.5 * IQR\n",
    "df['IsOutlier'] = df['TransactionAmount'].apply( lambda x: 1 if x < lower_bound or x > upper_bound else 0)\n",
    "\n",
    "df\n"
   ]
  },
  {
   "cell_type": "markdown",
   "id": "3cfb00af-3efe-4c44-9a00-e4e9202e66b0",
   "metadata": {},
   "source": [
    "Scenario 6: For Loop with Lists\n",
    "You want to calculate the square of each number in a list and store the results in a new list. However, the following code doesn’t work as expected:"
   ]
  },
  {
   "cell_type": "code",
   "execution_count": 33,
   "id": "42aa9b1b-1a59-43af-856a-a2e1ad6ec782",
   "metadata": {},
   "outputs": [
    {
     "name": "stdout",
     "output_type": "stream",
     "text": [
      "[0, 2, 6, 12, 20]\n"
     ]
    }
   ],
   "source": [
    "numbers = [1, 2, 3, 4, 5]\n",
    "squared_numbers = []\n",
    "\n",
    "for i in range(len(numbers)):\n",
    "    squared_numbers.append(numbers[i] * i)\n",
    "\n",
    "print(squared_numbers)\n"
   ]
  },
  {
   "cell_type": "code",
   "execution_count": 34,
   "id": "4f27690e-8a51-4569-bdda-c88f775ebfb8",
   "metadata": {},
   "outputs": [
    {
     "name": "stdout",
     "output_type": "stream",
     "text": [
      "[1, 4, 9, 16, 25]\n"
     ]
    }
   ],
   "source": [
    "numbers = [1, 2, 3, 4, 5]\n",
    "squared_numbers = []\n",
    "\n",
    "for i in range(len(numbers)):\n",
    "    squared_numbers.append(numbers[i] ** 2)\n",
    "\n",
    "print(squared_numbers)\n"
   ]
  },
  {
   "cell_type": "markdown",
   "id": "b5dbc19b-4469-4914-938d-2bd6fe623b53",
   "metadata": {},
   "source": [
    "Looking at the output I noticed that the list had the correct number of entries allowing me to know the actually loop was not the issue but rather the calculation being used. "
   ]
  },
  {
   "cell_type": "markdown",
   "id": "143dcab6-de5c-4275-89e7-14feed63c946",
   "metadata": {},
   "source": [
    "Scenario 7: While Loop\n",
    "You are trying to create a simple countdown using a while loop. The code is meant to count down from 5 to 1 and then print \"Liftoff!\" However, it gets stuck in an infinite loop."
   ]
  },
  {
   "cell_type": "code",
   "execution_count": 4,
   "id": "7aa5289b-b68b-4e89-abc7-610536ee9922",
   "metadata": {},
   "outputs": [
    {
     "name": "stdout",
     "output_type": "stream",
     "text": [
      "5\n",
      "4\n",
      "3\n",
      "2\n",
      "1\n",
      "0\n",
      "Liftoff!\n",
      "0\n",
      "Liftoff!\n",
      "0\n",
      "Liftoff!\n",
      "0\n",
      "Liftoff!\n",
      "0\n",
      "Liftoff!\n",
      "0\n",
      "Liftoff!\n"
     ]
    },
    {
     "ename": "Exception",
     "evalue": "Potential infinite loop detected!",
     "output_type": "error",
     "traceback": [
      "\u001b[0;31m---------------------------------------------------------------------------\u001b[0m",
      "\u001b[0;31mException\u001b[0m                                 Traceback (most recent call last)",
      "Cell \u001b[0;32mIn[4], line 15\u001b[0m\n\u001b[1;32m     13\u001b[0m         iterations \u001b[38;5;241m+\u001b[39m\u001b[38;5;241m=\u001b[39m \u001b[38;5;241m1\u001b[39m\n\u001b[1;32m     14\u001b[0m     \u001b[38;5;28;01mif\u001b[39;00m iterations \u001b[38;5;241m>\u001b[39m iteration_limit:\n\u001b[0;32m---> 15\u001b[0m         \u001b[38;5;28;01mraise\u001b[39;00m \u001b[38;5;167;01mException\u001b[39;00m(\u001b[38;5;124m\"\u001b[39m\u001b[38;5;124mPotential infinite loop detected!\u001b[39m\u001b[38;5;124m\"\u001b[39m)\n\u001b[1;32m     18\u001b[0m \u001b[38;5;28mprint\u001b[39m(\u001b[38;5;124m\"\u001b[39m\u001b[38;5;124mLiftoff!\u001b[39m\u001b[38;5;124m\"\u001b[39m)\n",
      "\u001b[0;31mException\u001b[0m: Potential infinite loop detected!"
     ]
    }
   ],
   "source": [
    "count = 5\n",
    "iteration_limit = 10\n",
    "iterations = 0 \n",
    "\n",
    "while count >= 0:\n",
    "    if count > 0:\n",
    "        print(count)\n",
    "        count = count - 1\n",
    "        iterations += 1\n",
    "    else:\n",
    "        print(count)\n",
    "        print(\"Liftoff!\")\n",
    "        iterations += 1\n",
    "    if iterations > iteration_limit:\n",
    "        raise Exception(\"Potential infinite loop detected!\")\n",
    "\n",
    "    \n",
    "print(\"Liftoff!\")\n"
   ]
  },
  {
   "cell_type": "markdown",
   "id": "a16b618e-b2d4-44f8-91b8-ace32ae91e17",
   "metadata": {},
   "source": [
    "I just used the above code as a practice with rasing exceptions"
   ]
  },
  {
   "cell_type": "code",
   "execution_count": 5,
   "id": "8b064a70-57e8-412b-98f0-7dda67f0fd78",
   "metadata": {},
   "outputs": [
    {
     "name": "stdout",
     "output_type": "stream",
     "text": [
      "5\n",
      "4\n",
      "3\n",
      "2\n",
      "1\n",
      "0\n",
      "Liftoff!\n"
     ]
    }
   ],
   "source": [
    "# simple way to correct original code\n",
    "count = 5\n",
    "\n",
    "while count >= 0:\n",
    "        print(count)\n",
    "        count = count - 1\n",
    "print(\"Liftoff!\")\n",
    "        \n",
    "\n"
   ]
  },
  {
   "cell_type": "markdown",
   "id": "e47c237e-3893-4f31-8997-0cec4f413ab1",
   "metadata": {},
   "source": [
    "Scenario 8:  Loop with a Dictionary\n",
    "You want to iterate through a dictionary of customer names and their account balances. For customers with a balance below 100, you want to add a key-value pair {'NeedsAttention': True}. However, the code throws an error."
   ]
  },
  {
   "cell_type": "code",
   "execution_count": 6,
   "id": "953370c1-e51f-47d4-b18b-7de6db19645c",
   "metadata": {},
   "outputs": [
    {
     "name": "stdout",
     "output_type": "stream",
     "text": [
      "{'Alice': {'Balance': 50, 'NeedsAttention': True}, 'Bob': {'Balance': 200}, 'Charlie': {'Balance': 80, 'NeedsAttention': True}}\n"
     ]
    }
   ],
   "source": [
    "customers = {\n",
    "    \"Alice\": {\"Balance\": 50},\n",
    "    \"Bob\": {\"Balance\": 200},\n",
    "    \"Charlie\": {\"Balance\": 80}\n",
    "}\n",
    "\n",
    "for name, info in customers.items():\n",
    "    if info['Balance'] < 100:\n",
    "        info['NeedsAttention'] = True\n",
    "\n",
    "print(customers)\n"
   ]
  },
  {
   "cell_type": "markdown",
   "id": "5987c590-5866-435a-8e04-9398e1923672",
   "metadata": {},
   "source": [
    "No error is thrown, however, bob has no marking that he does not need attention. Also, it is not ideal to overwrite a dictionary. Maybe we make a new one "
   ]
  },
  {
   "cell_type": "code",
   "execution_count": 9,
   "id": "65a53794-d9ae-48b1-8f6f-c90cd28693e7",
   "metadata": {},
   "outputs": [
    {
     "name": "stdout",
     "output_type": "stream",
     "text": [
      "{'Alice': {'Balance': 50, 'NeedsAttention': True}, 'Bob': {'Balance': 200, 'NeedsAttention': False}, 'Charlie': {'Balance': 80, 'NeedsAttention': True}}\n"
     ]
    }
   ],
   "source": [
    "#key = name ,info = value \n",
    "\n",
    "# create a new dictionary\n",
    "updated_customers = {\n",
    "    name: {**info, \"NeedsAttention\": info['Balance'] < 100} # key: {value which is a new dictionary}\n",
    "    for name, info in customers.items() # iterates through key value pairs in orginal customers dictionary\n",
    "}\n",
    "\n",
    "print(updated_customers)"
   ]
  },
  {
   "cell_type": "markdown",
   "id": "6501d6dc-bbe9-4be5-ba00-ea8f932056ee",
   "metadata": {},
   "source": [
    "Scenario 9: Nested Loops with Strings\n",
    "You want to count the number of vowels in a list of words using nested loops, but the code produces incorrect results.\n"
   ]
  },
  {
   "cell_type": "code",
   "execution_count": 10,
   "id": "edfe9062-d79f-46cf-a6e9-0cae8c458ba0",
   "metadata": {},
   "outputs": [
    {
     "name": "stdout",
     "output_type": "stream",
     "text": [
      "0\n"
     ]
    }
   ],
   "source": [
    "words = [\"hello\", \"world\", \"python\"]\n",
    "vowels = \"aeiou\"\n",
    "vowel_count = 0\n",
    "\n",
    "for word in words:\n",
    "    for char in word:\n",
    "        if vowels in char:\n",
    "            vowel_count += 1\n",
    "\n",
    "print(vowel_count)\n"
   ]
  },
  {
   "cell_type": "markdown",
   "id": "f3ecbe71-9c44-4cdd-b72e-15b7bfd3c061",
   "metadata": {},
   "source": [
    "Prints 1, expecting more then that as there are multiple vowels in Hello, world, and python. I believe the issue is that it is tryng tp match aeiou as a whole word rather then as seperate characters"
   ]
  },
  {
   "cell_type": "code",
   "execution_count": 15,
   "id": "f4b574eb-8ae6-4ffd-acce-495423f76b0d",
   "metadata": {},
   "outputs": [
    {
     "name": "stdout",
     "output_type": "stream",
     "text": [
      "4\n"
     ]
    }
   ],
   "source": [
    "words = [\"hello\", \"world\", \"python\"]\n",
    "vowels = [\"a\", \"e\", \"i\", \"o\", \"u\"]\n",
    "vowel_count = 0\n",
    "\n",
    "for word in words:\n",
    "    for char in word:\n",
    "        if char in vowels:\n",
    "            vowel_count += 1\n",
    "\n",
    "print(vowel_count)"
   ]
  },
  {
   "cell_type": "markdown",
   "id": "93080f1c-adef-4a3f-b898-a87d8150d3d0",
   "metadata": {},
   "source": [
    "Scenario 10:  Customer Rewards Program\n",
    "You are working on a program to calculate rewards points for a bank's customers based on their monthly spending. The program consists of three main functions:\n",
    "\n",
    "calculate_points(): Calculates rewards points for a single transaction.\n",
    "get_monthly_points(): Calculates the total points for a customer in a given month.\n",
    "generate_rewards_summary(): Generates a rewards summary for all customers.\n",
    "However, the program is not working as expected and has several bugs.\n",
    "\n",
    "{\n",
    "    \"Alice\": {\"total_spent\": 550, \"total_points\": 400.0},\n",
    "    \"Bob\": {\"total_spent\": 250, \"total_points\": 30.0},\n",
    "    \"Charlie\": {\"total_spent\": 750, \"total_points\": 775.0}\n",
    "}\n"
   ]
  },
  {
   "cell_type": "code",
   "execution_count": 16,
   "id": "71f61ddc-cd72-42da-9c9d-75b631d6ec67",
   "metadata": {},
   "outputs": [
    {
     "name": "stdout",
     "output_type": "stream",
     "text": [
      "{'Alice': {'total_spent': 550, 'total_points': 450.0}, 'Bob': {'total_spent': 250, 'total_points': 30.0}, 'Charlie': {'total_spent': 750, 'total_points': 675.0}}\n"
     ]
    }
   ],
   "source": [
    "# Function to calculate points for a single transaction\n",
    "def calculate_points(transaction_amount):\n",
    "    if transaction_amount <= 100:\n",
    "        return 0\n",
    "    elif transaction_amount > 100:\n",
    "        return (transaction_amount - 100) * 1.5\n",
    "\n",
    "# Function to calculate total points for a customer in a month\n",
    "def get_monthly_points(transactions):\n",
    "    total_points = 0\n",
    "    for t in transactions: # loops through items in list \n",
    "        total_points += calculate_points(t) # for each transaction, calls to points calc function\n",
    "    return total_points\n",
    "\n",
    "# Function to generate a rewards summary for all customers\n",
    "def generate_rewards_summary(customers):\n",
    "    summary = {}\n",
    "    for customer, data in customers.items(): # loops through each key value pair\n",
    "        transactions = data['transactions'] # grabs value of inner dictionary, returning a list of transaction numbers\n",
    "        monthly_points = get_monthly_points(transactions) # sends list of transaction to points functions\n",
    "        summary[customer] = {\n",
    "            'total_spent': sum(transactions),\n",
    "            'total_points': monthly_points\n",
    "        }\n",
    "    return summary\n",
    "\n",
    "# Customer data\n",
    "customers = {\n",
    "    \"Alice\": {\"transactions\": [50, 200, 300]},\n",
    "    \"Bob\": {\"transactions\": [120, 80, 50]},\n",
    "    \"Charlie\": {\"transactions\": [400, 150, 200]},\n",
    "}\n",
    "\n",
    "# Generate rewards summary\n",
    "summary = generate_rewards_summary(customers)\n",
    "print(summary)\n"
   ]
  },
  {
   "cell_type": "markdown",
   "id": "551f7999-9d5e-4945-8703-24f62b70a8a6",
   "metadata": {},
   "source": [
    "Code already works as expected. Asking for chat for a new problem with actual errors"
   ]
  },
  {
   "cell_type": "markdown",
   "id": "2794e16e-0680-47c3-8b15-988f190b6d03",
   "metadata": {},
   "source": [
    "Scenario 11: \n",
    "\n",
    "Problem: Analyzing Student Grades\n",
    "You are working on a program that analyzes student grades and generates a summary. The program contains the following functions:\n",
    "\n",
    "calculate_average(grades): Calculates the average of a list of grades.\n",
    "get_letter_grade(average): Converts a numeric average to a letter grade based on standard grading.\n",
    "generate_summary(students): Generates a summary of all students, including their average grade and letter grade.\n",
    "However, the program throws errors and/or produces incorrect results. Your job is to debug and fix it."
   ]
  },
  {
   "cell_type": "code",
   "execution_count": 17,
   "id": "d0ea2dd2-1f44-4497-961d-9015772cf401",
   "metadata": {},
   "outputs": [
    {
     "ename": "ZeroDivisionError",
     "evalue": "division by zero",
     "output_type": "error",
     "traceback": [
      "\u001b[0;31m---------------------------------------------------------------------------\u001b[0m",
      "\u001b[0;31mZeroDivisionError\u001b[0m                         Traceback (most recent call last)",
      "Cell \u001b[0;32mIn[17], line 36\u001b[0m\n\u001b[1;32m     28\u001b[0m students \u001b[38;5;241m=\u001b[39m {\n\u001b[1;32m     29\u001b[0m     \u001b[38;5;124m\"\u001b[39m\u001b[38;5;124mAlice\u001b[39m\u001b[38;5;124m\"\u001b[39m: [\u001b[38;5;241m95\u001b[39m, \u001b[38;5;241m85\u001b[39m, \u001b[38;5;241m92\u001b[39m],\n\u001b[1;32m     30\u001b[0m     \u001b[38;5;124m\"\u001b[39m\u001b[38;5;124mBob\u001b[39m\u001b[38;5;124m\"\u001b[39m: [\u001b[38;5;241m70\u001b[39m, \u001b[38;5;241m65\u001b[39m],  \u001b[38;5;66;03m# Edge case: Missing grades\u001b[39;00m\n\u001b[1;32m     31\u001b[0m     \u001b[38;5;124m\"\u001b[39m\u001b[38;5;124mCharlie\u001b[39m\u001b[38;5;124m\"\u001b[39m: [],    \u001b[38;5;66;03m# Edge case: Empty grades\u001b[39;00m\n\u001b[1;32m     32\u001b[0m     \u001b[38;5;124m\"\u001b[39m\u001b[38;5;124mDiana\u001b[39m\u001b[38;5;124m\"\u001b[39m: [\u001b[38;5;241m88\u001b[39m, \u001b[38;5;241m90\u001b[39m, \u001b[38;5;241m85\u001b[39m, \u001b[38;5;241m100\u001b[39m]\n\u001b[1;32m     33\u001b[0m }\n\u001b[1;32m     35\u001b[0m \u001b[38;5;66;03m# Generate the summary\u001b[39;00m\n\u001b[0;32m---> 36\u001b[0m summary \u001b[38;5;241m=\u001b[39m generate_summary(students)\n\u001b[1;32m     37\u001b[0m \u001b[38;5;28mprint\u001b[39m(summary)\n",
      "Cell \u001b[0;32mIn[17], line 22\u001b[0m, in \u001b[0;36mgenerate_summary\u001b[0;34m(students)\u001b[0m\n\u001b[1;32m     20\u001b[0m summary \u001b[38;5;241m=\u001b[39m {}\n\u001b[1;32m     21\u001b[0m \u001b[38;5;28;01mfor\u001b[39;00m student, grades \u001b[38;5;129;01min\u001b[39;00m students\u001b[38;5;241m.\u001b[39mitems():\n\u001b[0;32m---> 22\u001b[0m     avg \u001b[38;5;241m=\u001b[39m calculate_average(grades)\n\u001b[1;32m     23\u001b[0m     letter_grade \u001b[38;5;241m=\u001b[39m get_letter_grade(avg)\n\u001b[1;32m     24\u001b[0m     summary[student] \u001b[38;5;241m=\u001b[39m {\u001b[38;5;124m\"\u001b[39m\u001b[38;5;124maverage\u001b[39m\u001b[38;5;124m\"\u001b[39m: avg, \u001b[38;5;124m\"\u001b[39m\u001b[38;5;124mgrade\u001b[39m\u001b[38;5;124m\"\u001b[39m: letter_grade}\n",
      "Cell \u001b[0;32mIn[17], line 3\u001b[0m, in \u001b[0;36mcalculate_average\u001b[0;34m(grades)\u001b[0m\n\u001b[1;32m      2\u001b[0m \u001b[38;5;28;01mdef\u001b[39;00m \u001b[38;5;21mcalculate_average\u001b[39m(grades):\n\u001b[0;32m----> 3\u001b[0m     \u001b[38;5;28;01mreturn\u001b[39;00m \u001b[38;5;28msum\u001b[39m(grades) \u001b[38;5;241m/\u001b[39m \u001b[38;5;28mlen\u001b[39m(grades)\n",
      "\u001b[0;31mZeroDivisionError\u001b[0m: division by zero"
     ]
    }
   ],
   "source": [
    "# Function to calculate the average grade\n",
    "def calculate_average(grades):\n",
    "    return sum(grades) / len(grades)\n",
    "\n",
    "# Function to get letter grade\n",
    "def get_letter_grade(average):\n",
    "    if average >= 90:\n",
    "        return \"A\"\n",
    "    elif average >= 80:\n",
    "        return \"B\"\n",
    "    elif average >= 70:\n",
    "        return \"C\"\n",
    "    elif average >= 60:\n",
    "        return \"D\"\n",
    "    elif average < 60:\n",
    "        return \"F\"\n",
    "\n",
    "# Function to generate summary for all students\n",
    "def generate_summary(students):\n",
    "    summary = {}\n",
    "    for student, grades in students.items():\n",
    "        avg = calculate_average(grades)\n",
    "        letter_grade = get_letter_grade(avg)\n",
    "        summary[student] = {\"average\": avg, \"grade\": letter_grade}\n",
    "    return summary\n",
    "\n",
    "# Student data\n",
    "students = {\n",
    "    \"Alice\": [95, 85, 92],\n",
    "    \"Bob\": [70, 65],  # Edge case: Missing grades\n",
    "    \"Charlie\": [],    # Edge case: Empty grades\n",
    "    \"Diana\": [88, 90, 85, 100]\n",
    "}\n",
    "\n",
    "# Generate the summary\n",
    "summary = generate_summary(students)\n",
    "print(summary)\n"
   ]
  },
  {
   "cell_type": "code",
   "execution_count": 27,
   "id": "c13373bc-d713-47e5-90ea-9be45c233252",
   "metadata": {},
   "outputs": [
    {
     "name": "stdout",
     "output_type": "stream",
     "text": [
      "No grades available for Charlie\n",
      "{'Alice': {'average': 90.66666666666667, 'grade': 'A'}, 'Bob': {'average': 67.5, 'grade': 'D'}, 'Charlie': {'average': None, 'grade': 'N/A'}, 'Diana': {'average': 90.75, 'grade': 'A'}, 'Tom': {'average': 0.0, 'grade': 'F'}}\n"
     ]
    }
   ],
   "source": [
    "# Function to calculate the average grade\n",
    "def calculate_average(grades, student):\n",
    "    if not grades:\n",
    "        print(f\"No grades available for {student}\")\n",
    "        return None\n",
    "    try:\n",
    "        average =  sum(grades) / len(grades)\n",
    "        return average\n",
    "    except TypeError:\n",
    "        print(\"Invalid grade data encountered.\")\n",
    "        return None\n",
    "    \n",
    "# Function to get letter grade\n",
    "def get_letter_grade(average):\n",
    "    if average is None:  # Handle None gracefully\n",
    "        return \"N/A\"  # No grade available\n",
    "    try:\n",
    "        if average >= 90:\n",
    "            return \"A\"\n",
    "        elif average >= 80:\n",
    "            return \"B\"\n",
    "        elif average >= 70:\n",
    "            return \"C\"\n",
    "        elif average >= 60:\n",
    "            return \"D\"\n",
    "        else:\n",
    "            return \"F\"\n",
    "    except TypeError:\n",
    "        print(\"Invalid average value encountered.\")\n",
    "        return \"Error\"\n",
    "    \n",
    "# Function to generate summary for all students\n",
    "def generate_summary(students):\n",
    "    summary = {}\n",
    "    for student, grades in students.items():\n",
    "        avg = calculate_average(grades, student)\n",
    "        letter_grade = get_letter_grade(avg)\n",
    "        summary[student] = {\"average\": avg, \"grade\": letter_grade}\n",
    "    return summary\n",
    "\n",
    "# Student data\n",
    "students = {\n",
    "    \"Alice\": [95, 85, 92],\n",
    "    \"Bob\": [70, 65],  # Edge case: Missing grades\n",
    "    \"Charlie\": [],    # Edge case: Empty grades\n",
    "    \"Diana\": [88, 90, 85, 100],\n",
    "    \"Tom\": [0]\n",
    "}\n",
    "\n",
    "# Generate the summary\n",
    "summary = generate_summary(students)\n",
    "print(summary)\n"
   ]
  }
 ],
 "metadata": {
  "kernelspec": {
   "display_name": "Python 3 (ipykernel)",
   "language": "python",
   "name": "python3"
  },
  "language_info": {
   "codemirror_mode": {
    "name": "ipython",
    "version": 3
   },
   "file_extension": ".py",
   "mimetype": "text/x-python",
   "name": "python",
   "nbconvert_exporter": "python",
   "pygments_lexer": "ipython3",
   "version": "3.11.7"
  }
 },
 "nbformat": 4,
 "nbformat_minor": 5
}
